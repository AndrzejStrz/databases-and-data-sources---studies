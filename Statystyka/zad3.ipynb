{
 "cells": [
  {
   "cell_type": "code",
   "execution_count": 64,
   "metadata": {
    "collapsed": true,
    "pycharm": {
     "name": "#%%\n"
    }
   },
   "outputs": [],
   "source": [
    "import numpy as np\n",
    "import pandas as pd\n",
    "from scipy import stats\n",
    "import matplotlib.pyplot as plt"
   ]
  },
  {
   "cell_type": "markdown",
   "source": [
    "### Zadanie 1"
   ],
   "metadata": {
    "collapsed": false,
    "pycharm": {
     "name": "#%% md\n"
    }
   }
  },
  {
   "cell_type": "code",
   "execution_count": 65,
   "outputs": [],
   "source": [
    "mean = 2\n",
    "std = 30\n",
    "size = 200\n",
    "sample = np.random.normal(mean, std, size)\n",
    "hypothetical_mean = 2.5"
   ],
   "metadata": {
    "collapsed": false,
    "pycharm": {
     "name": "#%%\n"
    }
   }
  },
  {
   "cell_type": "code",
   "execution_count": 66,
   "outputs": [
    {
     "name": "stdout",
     "output_type": "stream",
     "text": [
      "Odrzucamy hipotezę zerową\n"
     ]
    }
   ],
   "source": [
    "_, p = stats.ttest_1samp(sample, hypothetical_mean)\n",
    "\n",
    "if p < 0.05:\n",
    "    print(\"Odrzucamy hipotezę zerową\")\n",
    "else:\n",
    "    print(\"Nie możemy odrzucić hipotezy zerowej\")"
   ],
   "metadata": {
    "collapsed": false,
    "pycharm": {
     "name": "#%%\n"
    }
   }
  },
  {
   "cell_type": "markdown",
   "source": [
    "### Zadanie 2"
   ],
   "metadata": {
    "collapsed": false,
    "pycharm": {
     "name": "#%% md\n"
    }
   }
  },
  {
   "cell_type": "code",
   "execution_count": 67,
   "outputs": [
    {
     "data": {
      "text/plain": "     mies   rok   pepsi  fanta   żywiec  okocim  regionalne    cola   lech\n0       1  2001  108447   43302  186385   54301       45065  227013  56306\n1       2  2001  105439   46711  168782   68131       43933  221115  67212\n2       3  2001  111675   36029  172186   63104       46663  222812  67398\n3       4  2001  113232   33659  172445   50871       45195  238631  57100\n4       5  2001  110274   40853  174526   67924       47926  222963  65001\n..    ...   ...     ...     ...     ...     ...         ...     ...    ...\n187     8  2016  105949   43017  169329   64262       58101  222531  58037\n188     9  2016  103420   44310  173923   67591       44565  230270  65156\n189    10  2016  120363   50688  175856   63791       51376  247155  59276\n190    11  2016  101215   41924  175914   62570       59505  240524  61765\n191    12  2016  114300   42314  178209   65923       58508  223129  68106\n\n[192 rows x 9 columns]",
      "text/html": "<div>\n<style scoped>\n    .dataframe tbody tr th:only-of-type {\n        vertical-align: middle;\n    }\n\n    .dataframe tbody tr th {\n        vertical-align: top;\n    }\n\n    .dataframe thead th {\n        text-align: right;\n    }\n</style>\n<table border=\"1\" class=\"dataframe\">\n  <thead>\n    <tr style=\"text-align: right;\">\n      <th></th>\n      <th>mies</th>\n      <th>rok</th>\n      <th>pepsi</th>\n      <th>fanta</th>\n      <th>żywiec</th>\n      <th>okocim</th>\n      <th>regionalne</th>\n      <th>cola</th>\n      <th>lech</th>\n    </tr>\n  </thead>\n  <tbody>\n    <tr>\n      <th>0</th>\n      <td>1</td>\n      <td>2001</td>\n      <td>108447</td>\n      <td>43302</td>\n      <td>186385</td>\n      <td>54301</td>\n      <td>45065</td>\n      <td>227013</td>\n      <td>56306</td>\n    </tr>\n    <tr>\n      <th>1</th>\n      <td>2</td>\n      <td>2001</td>\n      <td>105439</td>\n      <td>46711</td>\n      <td>168782</td>\n      <td>68131</td>\n      <td>43933</td>\n      <td>221115</td>\n      <td>67212</td>\n    </tr>\n    <tr>\n      <th>2</th>\n      <td>3</td>\n      <td>2001</td>\n      <td>111675</td>\n      <td>36029</td>\n      <td>172186</td>\n      <td>63104</td>\n      <td>46663</td>\n      <td>222812</td>\n      <td>67398</td>\n    </tr>\n    <tr>\n      <th>3</th>\n      <td>4</td>\n      <td>2001</td>\n      <td>113232</td>\n      <td>33659</td>\n      <td>172445</td>\n      <td>50871</td>\n      <td>45195</td>\n      <td>238631</td>\n      <td>57100</td>\n    </tr>\n    <tr>\n      <th>4</th>\n      <td>5</td>\n      <td>2001</td>\n      <td>110274</td>\n      <td>40853</td>\n      <td>174526</td>\n      <td>67924</td>\n      <td>47926</td>\n      <td>222963</td>\n      <td>65001</td>\n    </tr>\n    <tr>\n      <th>...</th>\n      <td>...</td>\n      <td>...</td>\n      <td>...</td>\n      <td>...</td>\n      <td>...</td>\n      <td>...</td>\n      <td>...</td>\n      <td>...</td>\n      <td>...</td>\n    </tr>\n    <tr>\n      <th>187</th>\n      <td>8</td>\n      <td>2016</td>\n      <td>105949</td>\n      <td>43017</td>\n      <td>169329</td>\n      <td>64262</td>\n      <td>58101</td>\n      <td>222531</td>\n      <td>58037</td>\n    </tr>\n    <tr>\n      <th>188</th>\n      <td>9</td>\n      <td>2016</td>\n      <td>103420</td>\n      <td>44310</td>\n      <td>173923</td>\n      <td>67591</td>\n      <td>44565</td>\n      <td>230270</td>\n      <td>65156</td>\n    </tr>\n    <tr>\n      <th>189</th>\n      <td>10</td>\n      <td>2016</td>\n      <td>120363</td>\n      <td>50688</td>\n      <td>175856</td>\n      <td>63791</td>\n      <td>51376</td>\n      <td>247155</td>\n      <td>59276</td>\n    </tr>\n    <tr>\n      <th>190</th>\n      <td>11</td>\n      <td>2016</td>\n      <td>101215</td>\n      <td>41924</td>\n      <td>175914</td>\n      <td>62570</td>\n      <td>59505</td>\n      <td>240524</td>\n      <td>61765</td>\n    </tr>\n    <tr>\n      <th>191</th>\n      <td>12</td>\n      <td>2016</td>\n      <td>114300</td>\n      <td>42314</td>\n      <td>178209</td>\n      <td>65923</td>\n      <td>58508</td>\n      <td>223129</td>\n      <td>68106</td>\n    </tr>\n  </tbody>\n</table>\n<p>192 rows × 9 columns</p>\n</div>"
     },
     "execution_count": 67,
     "metadata": {},
     "output_type": "execute_result"
    }
   ],
   "source": [
    "df = pd.read_csv('napoje.csv',sep=';')\n",
    "df"
   ],
   "metadata": {
    "collapsed": false,
    "pycharm": {
     "name": "#%%\n"
    }
   }
  },
  {
   "cell_type": "code",
   "execution_count": 68,
   "outputs": [
    {
     "name": "stdout",
     "output_type": "stream",
     "text": [
      "0.10130442686854728 1.2249714535216756e-09 2.2572528828603765e-41\n",
      "Nie możemy odrzucić hipotezy zerowej\n"
     ]
    }
   ],
   "source": [
    "_, p1 = stats.ttest_1samp(df['lech'].to_numpy(), 60500)\n",
    "_, p2 = stats.ttest_1samp(df['cola'].to_numpy(), 222000)\n",
    "_, p3 = stats.ttest_1samp(df['regionalne'].to_numpy(), 43500)\n",
    "\n",
    "print(p1, p2,p3)\n",
    "if p1 < 0.05 and p2<0.05 and p3< 0.05:\n",
    "    print(\"Odrzucamy hipotezę zerową\")\n",
    "else:\n",
    "    print(\"Nie możemy odrzucić hipotezy zerowej\")\n"
   ],
   "metadata": {
    "collapsed": false,
    "pycharm": {
     "name": "#%%\n"
    }
   }
  },
  {
   "cell_type": "markdown",
   "source": [
    "### zadanie 3"
   ],
   "metadata": {
    "collapsed": false,
    "pycharm": {
     "name": "#%% md\n"
    }
   }
  },
  {
   "cell_type": "code",
   "execution_count": 69,
   "outputs": [
    {
     "name": "stdout",
     "output_type": "stream",
     "text": [
      "Dla kolumny mies dane nie wykazują normalności 4.075907327205641e-07\n",
      "Dla kolumny rok dane nie wykazują normalności 1.3102297771183657e-06\n",
      "Dla kolumny pepsi dane wykazują normalność 0.2968809902667999\n",
      "Dla kolumny fanta  dane wykazują normalność 0.17036965489387512\n",
      "Dla kolumny żywiec dane wykazują normalność 0.3080885708332062\n",
      "Dla kolumny okocim dane wykazują normalność 0.08890535682439804\n",
      "Dla kolumny regionalne dane nie wykazują normalności 1.8769230791804148e-07\n",
      "Dla kolumny cola dane wykazują normalność 0.5694407224655151\n",
      "Dla kolumny lech dane wykazują normalność 0.5875554084777832\n"
     ]
    }
   ],
   "source": [
    "import scipy.stats as stats\n",
    "\n",
    "for x in df.columns:\n",
    "    pvalue = stats.shapiro(df[x])[1]\n",
    "\n",
    "    if pvalue > 0.05:\n",
    "        print(\"Dla kolumny\", x, \"dane wykazują normalność\", pvalue)\n",
    "    else:\n",
    "        print(\"Dla kolumny\", x, \"dane nie wykazują normalności\", pvalue)\n",
    "\n"
   ],
   "metadata": {
    "collapsed": false,
    "pycharm": {
     "name": "#%%\n"
    }
   }
  },
  {
   "cell_type": "code",
   "execution_count": 70,
   "outputs": [
    {
     "data": {
      "text/plain": "<Figure size 640x480 with 1 Axes>",
      "image/png": "[encoded data removed]"
     },
     "metadata": {},
     "output_type": "display_data"
    }
   ],
   "source": [
    "plt.hist(df['cola'])\n",
    "plt.show()"
   ],
   "metadata": {
    "collapsed": false,
    "pycharm": {
     "name": "#%%\n"
    }
   }
  },
  {
   "cell_type": "markdown",
   "source": [
    "### zadanie 4"
   ],
   "metadata": {
    "collapsed": false,
    "pycharm": {
     "name": "#%% md\n"
    }
   }
  },
  {
   "cell_type": "code",
   "execution_count": 71,
   "outputs": [
    {
     "name": "stdout",
     "output_type": "stream",
     "text": [
      "okocim i lech  Ttest_indResult(statistic=-0.8323919685480173, pvalue=0.4057078093583594)\n",
      "fanta i regionalne  Ttest_indResult(statistic=-11.013919429372727, pvalue=1.097001288015355e-24)\n",
      "cola i pepsi  Ttest_indResult(statistic=145.61815604546564, pvalue=0.0)\n"
     ]
    }
   ],
   "source": [
    "print('okocim i lech ', stats.ttest_ind(df['okocim'], df['lech']))\n",
    "print('fanta i regionalne ', stats.ttest_ind(df['fanta '], df['regionalne']))\n",
    "print('cola i pepsi ', stats.ttest_ind(df['cola'], df['pepsi']))"
   ],
   "metadata": {
    "collapsed": false,
    "pycharm": {
     "name": "#%%\n"
    }
   }
  },
  {
   "cell_type": "code",
   "execution_count": 72,
   "outputs": [
    {
     "name": "stdout",
     "output_type": "stream",
     "text": [
      "okocim i lech  MannwhitneyuResult(statistic=17861.5, pvalue=0.6001922392671175)\n",
      "fanta i regionalne  MannwhitneyuResult(statistic=8106.5, pvalue=2.223371766550974e-21)\n",
      "cola i pepsi  MannwhitneyuResult(statistic=36864.0, pvalue=1.9894396616299057e-64)\n"
     ]
    }
   ],
   "source": [
    "print('okocim i lech ', stats.mannwhitneyu(df['okocim'], df['lech']))\n",
    "print('fanta i regionalne ', stats.mannwhitneyu(df['fanta '], df['regionalne']))\n",
    "print('cola i pepsi ', stats.mannwhitneyu(df['cola'], df['pepsi']))"
   ],
   "metadata": {
    "collapsed": false,
    "pycharm": {
     "name": "#%%\n"
    }
   }
  },
  {
   "cell_type": "markdown",
   "source": [
    "### zadanie 5"
   ],
   "metadata": {
    "collapsed": false,
    "pycharm": {
     "name": "#%% md\n"
    }
   }
  },
  {
   "cell_type": "code",
   "execution_count": 73,
   "outputs": [
    {
     "name": "stdout",
     "output_type": "stream",
     "text": [
      "okocim i lech  F_onewayResult(statistic=0.6928763893032434, pvalue=0.4057078093583606)\n",
      "zywiec i fanta  F_onewayResult(statistic=70185.88074802411, pvalue=0.0)\n",
      "regionalne i cola  F_onewayResult(statistic=56462.96887396712, pvalue=0.0)\n"
     ]
    }
   ],
   "source": [
    "print('okocim i lech ', stats.f_oneway(df['okocim'], df['lech']))\n",
    "print('zywiec i fanta ', stats.f_oneway(df['żywiec'], df['fanta ']))\n",
    "print('regionalne i cola ', stats.f_oneway(df['regionalne'], df['cola']))"
   ],
   "metadata": {
    "collapsed": false,
    "pycharm": {
     "name": "#%%\n"
    }
   }
  },
  {
   "cell_type": "markdown",
   "source": [
    "### zadanie 6"
   ],
   "metadata": {
    "collapsed": false,
    "pycharm": {
     "name": "#%% md\n"
    }
   }
  },
  {
   "cell_type": "code",
   "execution_count": 74,
   "outputs": [
    {
     "name": "stdout",
     "output_type": "stream",
     "text": [
      "Ttest_indResult(statistic=-3.5977780582718273, pvalue=0.0016000242362201897)\n"
     ]
    }
   ],
   "source": [
    "t_test = stats.ttest_ind(df['regionalne'][(df['rok'] == 2001)], df['regionalne'][(df['rok'] == 2015)])\n",
    "print(t_test)"
   ],
   "metadata": {
    "collapsed": false,
    "pycharm": {
     "name": "#%%\n"
    }
   }
  },
  {
   "cell_type": "markdown",
   "source": [
    "### zadanie 7"
   ],
   "metadata": {
    "collapsed": false,
    "pycharm": {
     "name": "#%% md\n"
    }
   }
  },
  {
   "cell_type": "code",
   "execution_count": 75,
   "outputs": [
    {
     "data": {
      "text/plain": "    mies   pepsi  fanta   żywiec  okocim  regionalne    cola   lech\n0      1  119110   41386  186272   64398       55561  215468  68673\n1      2  107424   45669  178564   61847       48793  233941  68483\n2      3  105748   47373  183368   53390       63907  229677  63300\n3      4  115377   39395  184326   60062       58531  234246  61943\n4      5  103003   42477  182190   63736       51395  219392  64189\n5      6  102809   47224  183115   52596       55149  219600  63343\n6      7  106890   45185  184858   54457       52977  225857  63466\n7      8  103613   38748  185559   61437       61143  226311  68841\n8      9  112709   34145  186496   62945       59051  232491  65195\n9     10  112780   37407  182187   67979       60212  235802  57058\n10    11  113206   51504  191763   61462       55311  221554  54589\n11    12  107777   41005  183566   62182       64720  223153  56674",
      "text/html": "<div>\n<style scoped>\n    .dataframe tbody tr th:only-of-type {\n        vertical-align: middle;\n    }\n\n    .dataframe tbody tr th {\n        vertical-align: top;\n    }\n\n    .dataframe thead th {\n        text-align: right;\n    }\n</style>\n<table border=\"1\" class=\"dataframe\">\n  <thead>\n    <tr style=\"text-align: right;\">\n      <th></th>\n      <th>mies</th>\n      <th>pepsi</th>\n      <th>fanta</th>\n      <th>żywiec</th>\n      <th>okocim</th>\n      <th>regionalne</th>\n      <th>cola</th>\n      <th>lech</th>\n    </tr>\n  </thead>\n  <tbody>\n    <tr>\n      <th>0</th>\n      <td>1</td>\n      <td>119110</td>\n      <td>41386</td>\n      <td>186272</td>\n      <td>64398</td>\n      <td>55561</td>\n      <td>215468</td>\n      <td>68673</td>\n    </tr>\n    <tr>\n      <th>1</th>\n      <td>2</td>\n      <td>107424</td>\n      <td>45669</td>\n      <td>178564</td>\n      <td>61847</td>\n      <td>48793</td>\n      <td>233941</td>\n      <td>68483</td>\n    </tr>\n    <tr>\n      <th>2</th>\n      <td>3</td>\n      <td>105748</td>\n      <td>47373</td>\n      <td>183368</td>\n      <td>53390</td>\n      <td>63907</td>\n      <td>229677</td>\n      <td>63300</td>\n    </tr>\n    <tr>\n      <th>3</th>\n      <td>4</td>\n      <td>115377</td>\n      <td>39395</td>\n      <td>184326</td>\n      <td>60062</td>\n      <td>58531</td>\n      <td>234246</td>\n      <td>61943</td>\n    </tr>\n    <tr>\n      <th>4</th>\n      <td>5</td>\n      <td>103003</td>\n      <td>42477</td>\n      <td>182190</td>\n      <td>63736</td>\n      <td>51395</td>\n      <td>219392</td>\n      <td>64189</td>\n    </tr>\n    <tr>\n      <th>5</th>\n      <td>6</td>\n      <td>102809</td>\n      <td>47224</td>\n      <td>183115</td>\n      <td>52596</td>\n      <td>55149</td>\n      <td>219600</td>\n      <td>63343</td>\n    </tr>\n    <tr>\n      <th>6</th>\n      <td>7</td>\n      <td>106890</td>\n      <td>45185</td>\n      <td>184858</td>\n      <td>54457</td>\n      <td>52977</td>\n      <td>225857</td>\n      <td>63466</td>\n    </tr>\n    <tr>\n      <th>7</th>\n      <td>8</td>\n      <td>103613</td>\n      <td>38748</td>\n      <td>185559</td>\n      <td>61437</td>\n      <td>61143</td>\n      <td>226311</td>\n      <td>68841</td>\n    </tr>\n    <tr>\n      <th>8</th>\n      <td>9</td>\n      <td>112709</td>\n      <td>34145</td>\n      <td>186496</td>\n      <td>62945</td>\n      <td>59051</td>\n      <td>232491</td>\n      <td>65195</td>\n    </tr>\n    <tr>\n      <th>9</th>\n      <td>10</td>\n      <td>112780</td>\n      <td>37407</td>\n      <td>182187</td>\n      <td>67979</td>\n      <td>60212</td>\n      <td>235802</td>\n      <td>57058</td>\n    </tr>\n    <tr>\n      <th>10</th>\n      <td>11</td>\n      <td>113206</td>\n      <td>51504</td>\n      <td>191763</td>\n      <td>61462</td>\n      <td>55311</td>\n      <td>221554</td>\n      <td>54589</td>\n    </tr>\n    <tr>\n      <th>11</th>\n      <td>12</td>\n      <td>107777</td>\n      <td>41005</td>\n      <td>183566</td>\n      <td>62182</td>\n      <td>64720</td>\n      <td>223153</td>\n      <td>56674</td>\n    </tr>\n  </tbody>\n</table>\n</div>"
     },
     "execution_count": 75,
     "metadata": {},
     "output_type": "execute_result"
    }
   ],
   "source": [
    "df_po_reklamie = pd.read_csv('napoje_po_reklamie.csv',sep=';')\n",
    "df_po_reklamie"
   ],
   "metadata": {
    "collapsed": false,
    "pycharm": {
     "name": "#%%\n"
    }
   }
  },
  {
   "cell_type": "code",
   "execution_count": 76,
   "outputs": [
    {
     "name": "stdout",
     "output_type": "stream",
     "text": [
      "WilcoxonResult(statistic=37.0, pvalue=0.90966796875)\n",
      "WilcoxonResult(statistic=35.0, pvalue=0.791015625)\n",
      "WilcoxonResult(statistic=37.0, pvalue=0.90966796875)\n"
     ]
    }
   ],
   "source": [
    "cola_test = stats.wilcoxon(df[(df['rok'] == 2016)]['cola'], df_po_reklamie['cola'])\n",
    "fanta_test = stats.wilcoxon(df[(df['rok'] == 2016)]['fanta '], df_po_reklamie['fanta '])\n",
    "pepsi_test = stats.wilcoxon(df[(df['rok'] == 2016)]['pepsi'], df_po_reklamie['pepsi'])\n",
    "\n",
    "print(cola_test)\n",
    "print(fanta_test)\n",
    "print(pepsi_test)"
   ],
   "metadata": {
    "collapsed": false,
    "pycharm": {
     "name": "#%%\n"
    }
   }
  }
 ],
 "metadata": {
  "kernelspec": {
   "display_name": "Python 3",
   "language": "python",
   "name": "python3"
  },
  "language_info": {
   "codemirror_mode": {
    "name": "ipython",
    "version": 2
   },
   "file_extension": ".py",
   "mimetype": "text/x-python",
   "name": "python",
   "nbconvert_exporter": "python",
   "pygments_lexer": "ipython2",
   "version": "2.7.6"
  }
 },
 "nbformat": 4,
 "nbformat_minor": 0
}