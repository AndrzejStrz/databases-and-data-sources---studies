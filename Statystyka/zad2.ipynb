{
 "cells": [
  {
   "cell_type": "code",
   "execution_count": 51,
   "metadata": {
    "collapsed": true,
    "pycharm": {
     "name": "#%%\n"
    }
   },
   "outputs": [],
   "source": [
    "import numpy as np\n",
    "import pandas as pd\n",
    "import scipy\n",
    "import matplotlib.pyplot as plt\n"
   ]
  },
  {
   "cell_type": "markdown",
   "source": [
    "### Zadanie 1"
   ],
   "metadata": {
    "collapsed": false,
    "pycharm": {
     "name": "#%% md\n"
    }
   }
  },
  {
   "cell_type": "code",
   "execution_count": 52,
   "outputs": [
    {
     "data": {
      "text/plain": "    A  B  C  D  E  F\n0   2  2  5  3  1  3\n1   5  5  6  1  5  3\n2   6  1  4  5  6  6\n3   5  4  5  5  4  1\n4   2  1  4  6  1  4\n.. .. .. .. .. .. ..\n95  5  1  5  1  4  4\n96  1  2  5  4  6  2\n97  2  2  2  2  2  6\n98  6  6  4  3  1  1\n99  6  6  3  2  6  4\n\n[100 rows x 6 columns]",
      "text/html": "<div>\n<style scoped>\n    .dataframe tbody tr th:only-of-type {\n        vertical-align: middle;\n    }\n\n    .dataframe tbody tr th {\n        vertical-align: top;\n    }\n\n    .dataframe thead th {\n        text-align: right;\n    }\n</style>\n<table border=\"1\" class=\"dataframe\">\n  <thead>\n    <tr style=\"text-align: right;\">\n      <th></th>\n      <th>A</th>\n      <th>B</th>\n      <th>C</th>\n      <th>D</th>\n      <th>E</th>\n      <th>F</th>\n    </tr>\n  </thead>\n  <tbody>\n    <tr>\n      <th>0</th>\n      <td>2</td>\n      <td>2</td>\n      <td>5</td>\n      <td>3</td>\n      <td>1</td>\n      <td>3</td>\n    </tr>\n    <tr>\n      <th>1</th>\n      <td>5</td>\n      <td>5</td>\n      <td>6</td>\n      <td>1</td>\n      <td>5</td>\n      <td>3</td>\n    </tr>\n    <tr>\n      <th>2</th>\n      <td>6</td>\n      <td>1</td>\n      <td>4</td>\n      <td>5</td>\n      <td>6</td>\n      <td>6</td>\n    </tr>\n    <tr>\n      <th>3</th>\n      <td>5</td>\n      <td>4</td>\n      <td>5</td>\n      <td>5</td>\n      <td>4</td>\n      <td>1</td>\n    </tr>\n    <tr>\n      <th>4</th>\n      <td>2</td>\n      <td>1</td>\n      <td>4</td>\n      <td>6</td>\n      <td>1</td>\n      <td>4</td>\n    </tr>\n    <tr>\n      <th>...</th>\n      <td>...</td>\n      <td>...</td>\n      <td>...</td>\n      <td>...</td>\n      <td>...</td>\n      <td>...</td>\n    </tr>\n    <tr>\n      <th>95</th>\n      <td>5</td>\n      <td>1</td>\n      <td>5</td>\n      <td>1</td>\n      <td>4</td>\n      <td>4</td>\n    </tr>\n    <tr>\n      <th>96</th>\n      <td>1</td>\n      <td>2</td>\n      <td>5</td>\n      <td>4</td>\n      <td>6</td>\n      <td>2</td>\n    </tr>\n    <tr>\n      <th>97</th>\n      <td>2</td>\n      <td>2</td>\n      <td>2</td>\n      <td>2</td>\n      <td>2</td>\n      <td>6</td>\n    </tr>\n    <tr>\n      <th>98</th>\n      <td>6</td>\n      <td>6</td>\n      <td>4</td>\n      <td>3</td>\n      <td>1</td>\n      <td>1</td>\n    </tr>\n    <tr>\n      <th>99</th>\n      <td>6</td>\n      <td>6</td>\n      <td>3</td>\n      <td>2</td>\n      <td>6</td>\n      <td>4</td>\n    </tr>\n  </tbody>\n</table>\n<p>100 rows × 6 columns</p>\n</div>"
     },
     "execution_count": 52,
     "metadata": {},
     "output_type": "execute_result"
    }
   ],
   "source": [
    "df = pd.DataFrame(np.random.randint(1,7,size=(100, 6)), columns=list('ABCDEF'))\n",
    "df"
   ],
   "metadata": {
    "collapsed": false,
    "pycharm": {
     "name": "#%%\n"
    }
   }
  },
  {
   "cell_type": "code",
   "execution_count": 53,
   "outputs": [
    {
     "data": {
      "text/plain": "                A           B           C          D           E          F\ncount  100.000000  100.000000  100.000000  100.00000  100.000000  100.00000\nmean     3.410000    3.230000    3.770000    3.72000    3.390000    3.57000\nstd      1.809598    1.852408    1.619671    1.73543    1.710898    1.69524\nmin      1.000000    1.000000    1.000000    1.00000    1.000000    1.00000\n25%      2.000000    2.000000    2.750000    2.00000    2.000000    2.00000\n50%      3.000000    3.000000    4.000000    4.00000    3.000000    4.00000\n75%      5.000000    5.000000    5.000000    5.00000    5.000000    5.00000\nmax      6.000000    6.000000    6.000000    6.00000    6.000000    6.00000",
      "text/html": "<div>\n<style scoped>\n    .dataframe tbody tr th:only-of-type {\n        vertical-align: middle;\n    }\n\n    .dataframe tbody tr th {\n        vertical-align: top;\n    }\n\n    .dataframe thead th {\n        text-align: right;\n    }\n</style>\n<table border=\"1\" class=\"dataframe\">\n  <thead>\n    <tr style=\"text-align: right;\">\n      <th></th>\n      <th>A</th>\n      <th>B</th>\n      <th>C</th>\n      <th>D</th>\n      <th>E</th>\n      <th>F</th>\n    </tr>\n  </thead>\n  <tbody>\n    <tr>\n      <th>count</th>\n      <td>100.000000</td>\n      <td>100.000000</td>\n      <td>100.000000</td>\n      <td>100.00000</td>\n      <td>100.000000</td>\n      <td>100.00000</td>\n    </tr>\n    <tr>\n      <th>mean</th>\n      <td>3.410000</td>\n      <td>3.230000</td>\n      <td>3.770000</td>\n      <td>3.72000</td>\n      <td>3.390000</td>\n      <td>3.57000</td>\n    </tr>\n    <tr>\n      <th>std</th>\n      <td>1.809598</td>\n      <td>1.852408</td>\n      <td>1.619671</td>\n      <td>1.73543</td>\n      <td>1.710898</td>\n      <td>1.69524</td>\n    </tr>\n    <tr>\n      <th>min</th>\n      <td>1.000000</td>\n      <td>1.000000</td>\n      <td>1.000000</td>\n      <td>1.00000</td>\n      <td>1.000000</td>\n      <td>1.00000</td>\n    </tr>\n    <tr>\n      <th>25%</th>\n      <td>2.000000</td>\n      <td>2.000000</td>\n      <td>2.750000</td>\n      <td>2.00000</td>\n      <td>2.000000</td>\n      <td>2.00000</td>\n    </tr>\n    <tr>\n      <th>50%</th>\n      <td>3.000000</td>\n      <td>3.000000</td>\n      <td>4.000000</td>\n      <td>4.00000</td>\n      <td>3.000000</td>\n      <td>4.00000</td>\n    </tr>\n    <tr>\n      <th>75%</th>\n      <td>5.000000</td>\n      <td>5.000000</td>\n      <td>5.000000</td>\n      <td>5.00000</td>\n      <td>5.000000</td>\n      <td>5.00000</td>\n    </tr>\n    <tr>\n      <th>max</th>\n      <td>6.000000</td>\n      <td>6.000000</td>\n      <td>6.000000</td>\n      <td>6.00000</td>\n      <td>6.000000</td>\n      <td>6.00000</td>\n    </tr>\n  </tbody>\n</table>\n</div>"
     },
     "execution_count": 53,
     "metadata": {},
     "output_type": "execute_result"
    }
   ],
   "source": [
    "df.describe()"
   ],
   "metadata": {
    "collapsed": false,
    "pycharm": {
     "name": "#%%\n"
    }
   }
  },
  {
   "cell_type": "markdown",
   "source": [
    "### Zadanie 2"
   ],
   "metadata": {
    "collapsed": false,
    "pycharm": {
     "name": "#%% md\n"
    }
   }
  },
  {
   "cell_type": "code",
   "execution_count": 54,
   "outputs": [],
   "source": [
    "k = 10\n",
    "p = 0.5\n",
    "n = 100\n",
    "lambda_param = 1\n",
    "\n",
    "samples_bernoulli = np.random.binomial(1, p, n)\n",
    "\n",
    "samples_binomial = np.random.binomial(k, p, n)\n",
    "\n",
    "samples_poisson = np.random.poisson(lambda_param, n)"
   ],
   "metadata": {
    "collapsed": false,
    "pycharm": {
     "name": "#%%\n"
    }
   }
  },
  {
   "cell_type": "markdown",
   "source": [
    "### Zadanie 3"
   ],
   "metadata": {
    "collapsed": false,
    "pycharm": {
     "name": "#%% md\n"
    }
   }
  },
  {
   "cell_type": "code",
   "execution_count": 55,
   "outputs": [
    {
     "name": "stdout",
     "output_type": "stream",
     "text": [
      "Beruli mean  0.42\n",
      "Binomial mean  5.04\n",
      "Poisson mean  0.91\n"
     ]
    }
   ],
   "source": [
    "print('Beruli mean ', np.mean(samples_bernoulli))\n",
    "print('Binomial mean ', np.mean(samples_binomial))\n",
    "print('Poisson mean ', np.mean(samples_poisson))"
   ],
   "metadata": {
    "collapsed": false,
    "pycharm": {
     "name": "#%%\n"
    }
   }
  },
  {
   "cell_type": "code",
   "execution_count": 56,
   "outputs": [
    {
     "name": "stdout",
     "output_type": "stream",
     "text": [
      "Beruli var  0.24360000000000007\n",
      "Binomial var  2.6584000000000003\n",
      "Poisson var  1.2218999999999998\n"
     ]
    }
   ],
   "source": [
    "print('Beruli var ', np.var(samples_bernoulli))\n",
    "print('Binomial var ', np.var(samples_binomial))\n",
    "print('Poisson var ', np.var(samples_poisson))"
   ],
   "metadata": {
    "collapsed": false,
    "pycharm": {
     "name": "#%%\n"
    }
   }
  },
  {
   "cell_type": "code",
   "execution_count": 57,
   "outputs": [
    {
     "name": "stdout",
     "output_type": "stream",
     "text": [
      "Beruli kurtosis  -1.8949096880131366\n",
      "Binomial kurtosis  -0.526234003714253\n",
      "Poisson kurtosis  3.79927116602084\n"
     ]
    }
   ],
   "source": [
    "print('Beruli kurtosis ', scipy.stats.kurtosis(samples_bernoulli))\n",
    "print('Binomial kurtosis ', scipy.stats.kurtosis(samples_binomial))\n",
    "print('Poisson kurtosis ', scipy.stats.kurtosis(samples_poisson))"
   ],
   "metadata": {
    "collapsed": false,
    "pycharm": {
     "name": "#%%\n"
    }
   }
  },
  {
   "cell_type": "code",
   "execution_count": 58,
   "outputs": [
    {
     "name": "stdout",
     "output_type": "stream",
     "text": [
      "Beruli skew  0.3241763593892432\n",
      "Binomial skew  -0.526234003714253\n",
      "Poisson skew  3.79927116602084\n"
     ]
    }
   ],
   "source": [
    "print('Beruli skew ', scipy.stats.skew(samples_bernoulli))\n",
    "print('Binomial skew ', scipy.stats.kurtosis(samples_binomial))\n",
    "print('Poisson skew ', scipy.stats.kurtosis(samples_poisson))"
   ],
   "metadata": {
    "collapsed": false,
    "pycharm": {
     "name": "#%%\n"
    }
   }
  },
  {
   "cell_type": "markdown",
   "source": [
    "### Zadanie 4"
   ],
   "metadata": {
    "collapsed": false,
    "pycharm": {
     "name": "#%% md\n"
    }
   }
  },
  {
   "cell_type": "code",
   "execution_count": 59,
   "outputs": [
    {
     "data": {
      "text/plain": "Text(0.5, 1.0, 'Rozkład Poissona')"
     },
     "execution_count": 59,
     "metadata": {},
     "output_type": "execute_result"
    },
    {
     "data": {
      "text/plain": "<Figure size 1500x500 with 3 Axes>",
      "image/png": "[encoded data removed]"
     },
     "metadata": {},
     "output_type": "display_data"
    }
   ],
   "source": [
    "fig, (ax1, ax2, ax3) = plt.subplots(1, 3, figsize=(15, 5))\n",
    "\n",
    "ax1.hist(samples_bernoulli, bins=2, density=True, alpha=0.6, label=\"Histogram\", edgecolor='black')\n",
    "ax1.plot(np.linspace(0, 1), scipy.stats.bernoulli.pmf(np.linspace(0, 1), p=0.5), 'g',\n",
    "         label=\"Rozkład prawdopodobieństwa\")\n",
    "ax1.set_xlabel(\"Wartość\")\n",
    "ax1.set_ylabel(\"Prawdopodobieństwo\")\n",
    "ax1.legend()\n",
    "ax1.set_title(\"Rozkład Bernoulliego\")\n",
    "\n",
    "ax2.hist(samples_binomial, density=True, alpha=0.6, label=\"Histogram\", edgecolor='black')\n",
    "ax2.plot(np.arange(0, 11), scipy.stats.binom.pmf(np.arange(0, 11), n=10, p=0.5), 'g',\n",
    "         label=\"Rozkład prawdopodobieństwa\")\n",
    "ax2.set_xlabel(\"Wartość\")\n",
    "ax2.set_ylabel(\"Prawdopodobieństwo\")\n",
    "ax2.legend()\n",
    "ax2.set_title(\"Rozkład Dwumianowy\")\n",
    "\n",
    "ax3.hist(samples_poisson, bins=10, density=True, alpha=0.6, label=\"Histogram\", edgecolor='black')\n",
    "\n",
    "ax3.plot(np.arange(0, 11), scipy.stats.poisson.pmf(np.arange(0, 11), mu=10), 'g', label=\"Rozkład prawdopodobieństwa\")\n",
    "ax3.set_xlabel(\"Wartość\")\n",
    "ax3.set_ylabel(\"Prawdopodobieństwo\")\n",
    "ax3.legend()\n",
    "ax3.set_title(\"Rozkład Poissona\")"
   ],
   "metadata": {
    "collapsed": false,
    "pycharm": {
     "name": "#%%\n"
    }
   }
  },
  {
   "cell_type": "markdown",
   "source": [
    "### Zadanie 5"
   ],
   "metadata": {
    "collapsed": false,
    "pycharm": {
     "name": "#%% md\n"
    }
   }
  },
  {
   "cell_type": "code",
   "execution_count": 60,
   "outputs": [
    {
     "name": "stdout",
     "output_type": "stream",
     "text": [
      "1.0\n"
     ]
    }
   ],
   "source": [
    "probabilities = scipy.stats.binom.pmf(np.arange(0, 21, 1), 20, 0.4)\n",
    "print(np.round(np.sum(probabilities),6))"
   ],
   "metadata": {
    "collapsed": false,
    "pycharm": {
     "name": "#%%\n"
    }
   }
  },
  {
   "cell_type": "markdown",
   "source": [
    "### Zadanie 6"
   ],
   "metadata": {
    "collapsed": false,
    "pycharm": {
     "name": "#%% md\n"
    }
   }
  },
  {
   "cell_type": "code",
   "execution_count": 61,
   "outputs": [],
   "source": [
    "data = np.random.normal(0, 2, 100)"
   ],
   "metadata": {
    "collapsed": false,
    "pycharm": {
     "name": "#%%\n"
    }
   }
  },
  {
   "cell_type": "code",
   "execution_count": 62,
   "outputs": [
    {
     "name": "stdout",
     "output_type": "stream",
     "text": [
      "Średnia:  -0.22204660578638769 , teoretyczna: 0\n",
      "Średnia:  3.337315784667011 , teoretyczna: 4\n",
      "Średnia:  1.8268321720034961 , teoretyczna: 2\n",
      "Średnia:  -0.31616647833513056 , teoretyczna: 0\n",
      "Średnia:  0.09120857380241501 , teoretyczna: 0\n"
     ]
    }
   ],
   "source": [
    "mean = np.mean(data)\n",
    "variance = np.var(data)\n",
    "std = np.std(data)\n",
    "kurtosis = scipy.stats.kurtosis(data)\n",
    "skewness = scipy.stats.skew(data)\n",
    "\n",
    "print(f'Średnia: ',mean,', teoretyczna: 0')\n",
    "print(f'Średnia: ',variance,', teoretyczna: 4')\n",
    "print(f'Średnia: ',std,', teoretyczna: 2')\n",
    "print(f'Średnia: ',kurtosis,', teoretyczna: 0')\n",
    "print(f'Średnia: ',skewness,', teoretyczna: 0')"
   ],
   "metadata": {
    "collapsed": false,
    "pycharm": {
     "name": "#%%\n"
    }
   }
  },
  {
   "cell_type": "code",
   "execution_count": 63,
   "outputs": [
    {
     "name": "stdout",
     "output_type": "stream",
     "text": [
      "Średnia:  -0.011376248842156217 , teoretyczna: 0\n",
      "Średnia:  3.9988485798751445 , teoretyczna: 4\n",
      "Średnia:  1.9997121242506743 , teoretyczna: 2\n",
      "Średnia:  0.014564190213776751 , teoretyczna: 0\n",
      "Średnia:  0.005540406744183479 , teoretyczna: 0\n"
     ]
    }
   ],
   "source": [
    "data2 = np.random.normal(0, 2, 100000)\n",
    "mean = np.mean(data2)\n",
    "variance = np.var(data2)\n",
    "std = np.std(data2)\n",
    "kurtosis = scipy.stats.kurtosis(data2)\n",
    "skewness = scipy.stats.skew(data2)\n",
    "\n",
    "print(f'Średnia: ',mean,', teoretyczna: 0')\n",
    "print(f'Średnia: ',variance,', teoretyczna: 4')\n",
    "print(f'Średnia: ',std,', teoretyczna: 2')\n",
    "print(f'Średnia: ',kurtosis,', teoretyczna: 0')\n",
    "print(f'Średnia: ',skewness,', teoretyczna: 0')"
   ],
   "metadata": {
    "collapsed": false,
    "pycharm": {
     "name": "#%%\n"
    }
   }
  },
  {
   "cell_type": "code",
   "execution_count": 63,
   "outputs": [],
   "source": [],
   "metadata": {
    "collapsed": false,
    "pycharm": {
     "name": "#%%\n"
    }
   }
  }
 ],
 "metadata": {
  "kernelspec": {
   "display_name": "Python 3",
   "language": "python",
   "name": "python3"
  },
  "language_info": {
   "codemirror_mode": {
    "name": "ipython",
    "version": 2
   },
   "file_extension": ".py",
   "mimetype": "text/x-python",
   "name": "python",
   "nbconvert_exporter": "python",
   "pygments_lexer": "ipython2",
   "version": "2.7.6"
  }
 },
 "nbformat": 4,
 "nbformat_minor": 0
}