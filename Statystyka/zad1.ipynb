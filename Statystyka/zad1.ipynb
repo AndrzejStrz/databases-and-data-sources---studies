{
 "cells": [
  {
   "cell_type": "code",
   "execution_count": 30,
   "metadata": {
    "collapsed": true,
    "pycharm": {
     "name": "#%%\n"
    }
   },
   "outputs": [],
   "source": [
    "import numpy as np\n",
    "import urllib.request\n",
    "import pandas as pd\n",
    "import statistics\n",
    "import matplotlib.pyplot as plt\n",
    "from scipy import stats"
   ]
  },
  {
   "cell_type": "markdown",
   "source": [
    "### Zadanie 1"
   ],
   "metadata": {
    "collapsed": false,
    "pycharm": {
     "name": "#%% md\n"
    }
   }
  },
  {
   "cell_type": "code",
   "execution_count": 31,
   "outputs": [
    {
     "data": {
      "text/plain": "('mdr.csv', <http.client.HTTPMessage at 0x2aa0858a740>)"
     },
     "execution_count": 31,
     "metadata": {},
     "output_type": "execute_result"
    }
   ],
   "source": [
    "url = 'https://extranet.who.int/tme/generateCSV.asp?ds=mdr_estimates'\n",
    "urllib.request.urlretrieve(url, 'mdr.csv')"
   ],
   "metadata": {
    "collapsed": false,
    "pycharm": {
     "name": "#%%\n"
    }
   }
  },
  {
   "cell_type": "code",
   "execution_count": 32,
   "outputs": [
    {
     "data": {
      "text/plain": "       country iso2 iso3  iso_numeric g_whoregion  year source_rr_new  \\\n0  Afghanistan   AF  AFG            4         EMR  2015         Model   \n1  Afghanistan   AF  AFG            4         EMR  2016         Model   \n2  Afghanistan   AF  AFG            4         EMR  2017         Model   \n3  Afghanistan   AF  AFG            4         EMR  2018         Model   \n4  Afghanistan   AF  AFG            4         EMR  2019         Model   \n\n   e_rr_pct_new  e_rr_pct_new_lo  e_rr_pct_new_hi source_rr_ret  e_rr_pct_ret  \\\n0           5.1             0.45             19.0  Surveillance           8.6   \n1           5.1             0.50             20.0  Surveillance          11.0   \n2           5.2             0.53             19.0  Surveillance          15.0   \n3           5.2             0.54             20.0  Surveillance          19.0   \n4           5.3             0.55             20.0  Surveillance          24.0   \n\n   e_rr_pct_ret_lo  e_rr_pct_ret_hi  e_inc_rr_num  e_inc_rr_num_lo  \\\n0              6.5             11.0          3600                0   \n1              9.4             14.0          3800                0   \n2             13.0             16.0          3900                0   \n3             17.0             20.0          4100                0   \n4             21.0             26.0          4300                0   \n\n   e_inc_rr_num_hi  \n0            10000  \n1            11000  \n2            11000  \n3            12000  \n4            12000  ",
      "text/html": "<div>\n<style scoped>\n    .dataframe tbody tr th:only-of-type {\n        vertical-align: middle;\n    }\n\n    .dataframe tbody tr th {\n        vertical-align: top;\n    }\n\n    .dataframe thead th {\n        text-align: right;\n    }\n</style>\n<table border=\"1\" class=\"dataframe\">\n  <thead>\n    <tr style=\"text-align: right;\">\n      <th></th>\n      <th>country</th>\n      <th>iso2</th>\n      <th>iso3</th>\n      <th>iso_numeric</th>\n      <th>g_whoregion</th>\n      <th>year</th>\n      <th>source_rr_new</th>\n      <th>e_rr_pct_new</th>\n      <th>e_rr_pct_new_lo</th>\n      <th>e_rr_pct_new_hi</th>\n      <th>source_rr_ret</th>\n      <th>e_rr_pct_ret</th>\n      <th>e_rr_pct_ret_lo</th>\n      <th>e_rr_pct_ret_hi</th>\n      <th>e_inc_rr_num</th>\n      <th>e_inc_rr_num_lo</th>\n      <th>e_inc_rr_num_hi</th>\n    </tr>\n  </thead>\n  <tbody>\n    <tr>\n      <th>0</th>\n      <td>Afghanistan</td>\n      <td>AF</td>\n      <td>AFG</td>\n      <td>4</td>\n      <td>EMR</td>\n      <td>2015</td>\n      <td>Model</td>\n      <td>5.1</td>\n      <td>0.45</td>\n      <td>19.0</td>\n      <td>Surveillance</td>\n      <td>8.6</td>\n      <td>6.5</td>\n      <td>11.0</td>\n      <td>3600</td>\n      <td>0</td>\n      <td>10000</td>\n    </tr>\n    <tr>\n      <th>1</th>\n      <td>Afghanistan</td>\n      <td>AF</td>\n      <td>AFG</td>\n      <td>4</td>\n      <td>EMR</td>\n      <td>2016</td>\n      <td>Model</td>\n      <td>5.1</td>\n      <td>0.50</td>\n      <td>20.0</td>\n      <td>Surveillance</td>\n      <td>11.0</td>\n      <td>9.4</td>\n      <td>14.0</td>\n      <td>3800</td>\n      <td>0</td>\n      <td>11000</td>\n    </tr>\n    <tr>\n      <th>2</th>\n      <td>Afghanistan</td>\n      <td>AF</td>\n      <td>AFG</td>\n      <td>4</td>\n      <td>EMR</td>\n      <td>2017</td>\n      <td>Model</td>\n      <td>5.2</td>\n      <td>0.53</td>\n      <td>19.0</td>\n      <td>Surveillance</td>\n      <td>15.0</td>\n      <td>13.0</td>\n      <td>16.0</td>\n      <td>3900</td>\n      <td>0</td>\n      <td>11000</td>\n    </tr>\n    <tr>\n      <th>3</th>\n      <td>Afghanistan</td>\n      <td>AF</td>\n      <td>AFG</td>\n      <td>4</td>\n      <td>EMR</td>\n      <td>2018</td>\n      <td>Model</td>\n      <td>5.2</td>\n      <td>0.54</td>\n      <td>20.0</td>\n      <td>Surveillance</td>\n      <td>19.0</td>\n      <td>17.0</td>\n      <td>20.0</td>\n      <td>4100</td>\n      <td>0</td>\n      <td>12000</td>\n    </tr>\n    <tr>\n      <th>4</th>\n      <td>Afghanistan</td>\n      <td>AF</td>\n      <td>AFG</td>\n      <td>4</td>\n      <td>EMR</td>\n      <td>2019</td>\n      <td>Model</td>\n      <td>5.3</td>\n      <td>0.55</td>\n      <td>20.0</td>\n      <td>Surveillance</td>\n      <td>24.0</td>\n      <td>21.0</td>\n      <td>26.0</td>\n      <td>4300</td>\n      <td>0</td>\n      <td>12000</td>\n    </tr>\n  </tbody>\n</table>\n</div>"
     },
     "execution_count": 32,
     "metadata": {},
     "output_type": "execute_result"
    }
   ],
   "source": [
    "df = pd.read_csv('mdr.csv')\n",
    "df.head()"
   ],
   "metadata": {
    "collapsed": false,
    "pycharm": {
     "name": "#%%\n"
    }
   }
  },
  {
   "cell_type": "code",
   "execution_count": 33,
   "outputs": [
    {
     "data": {
      "text/plain": "       country iso2 iso3  iso_numeric g_whoregion  year  \\\n1486  Zimbabwe   ZW  ZWE          716         AFR  2017   \n1487  Zimbabwe   ZW  ZWE          716         AFR  2018   \n1488  Zimbabwe   ZW  ZWE          716         AFR  2019   \n1489  Zimbabwe   ZW  ZWE          716         AFR  2020   \n1490  Zimbabwe   ZW  ZWE          716         AFR  2021   \n\n              source_rr_new  e_rr_pct_new  e_rr_pct_new_lo  e_rr_pct_new_hi  \\\n1486  Survey & Surveillance           3.5              3.2              3.8   \n1487  Survey & Surveillance           2.9              2.7              3.1   \n1488  Survey & Surveillance           2.4              2.2              2.7   \n1489  Survey & Surveillance           2.0              1.7              2.4   \n1490  Survey & Surveillance           1.7              1.3              2.1   \n\n              source_rr_ret  e_rr_pct_ret  e_rr_pct_ret_lo  e_rr_pct_ret_hi  \\\n1486  Survey & Surveillance          20.0             16.0             24.0   \n1487  Survey & Surveillance          21.0             18.0             25.0   \n1488  Survey & Surveillance          23.0             20.0             27.0   \n1489  Survey & Surveillance          25.0             20.0             30.0   \n1490  Survey & Surveillance          28.0             21.0             34.0   \n\n      e_inc_rr_num  e_inc_rr_num_lo  e_inc_rr_num_hi  \n1486          1500             1000             2000  \n1487          1200              850             1600  \n1488          1000              710             1400  \n1489           830              540             1100  \n1490           780              480             1100  ",
      "text/html": "<div>\n<style scoped>\n    .dataframe tbody tr th:only-of-type {\n        vertical-align: middle;\n    }\n\n    .dataframe tbody tr th {\n        vertical-align: top;\n    }\n\n    .dataframe thead th {\n        text-align: right;\n    }\n</style>\n<table border=\"1\" class=\"dataframe\">\n  <thead>\n    <tr style=\"text-align: right;\">\n      <th></th>\n      <th>country</th>\n      <th>iso2</th>\n      <th>iso3</th>\n      <th>iso_numeric</th>\n      <th>g_whoregion</th>\n      <th>year</th>\n      <th>source_rr_new</th>\n      <th>e_rr_pct_new</th>\n      <th>e_rr_pct_new_lo</th>\n      <th>e_rr_pct_new_hi</th>\n      <th>source_rr_ret</th>\n      <th>e_rr_pct_ret</th>\n      <th>e_rr_pct_ret_lo</th>\n      <th>e_rr_pct_ret_hi</th>\n      <th>e_inc_rr_num</th>\n      <th>e_inc_rr_num_lo</th>\n      <th>e_inc_rr_num_hi</th>\n    </tr>\n  </thead>\n  <tbody>\n    <tr>\n      <th>1486</th>\n      <td>Zimbabwe</td>\n      <td>ZW</td>\n      <td>ZWE</td>\n      <td>716</td>\n      <td>AFR</td>\n      <td>2017</td>\n      <td>Survey &amp; Surveillance</td>\n      <td>3.5</td>\n      <td>3.2</td>\n      <td>3.8</td>\n      <td>Survey &amp; Surveillance</td>\n      <td>20.0</td>\n      <td>16.0</td>\n      <td>24.0</td>\n      <td>1500</td>\n      <td>1000</td>\n      <td>2000</td>\n    </tr>\n    <tr>\n      <th>1487</th>\n      <td>Zimbabwe</td>\n      <td>ZW</td>\n      <td>ZWE</td>\n      <td>716</td>\n      <td>AFR</td>\n      <td>2018</td>\n      <td>Survey &amp; Surveillance</td>\n      <td>2.9</td>\n      <td>2.7</td>\n      <td>3.1</td>\n      <td>Survey &amp; Surveillance</td>\n      <td>21.0</td>\n      <td>18.0</td>\n      <td>25.0</td>\n      <td>1200</td>\n      <td>850</td>\n      <td>1600</td>\n    </tr>\n    <tr>\n      <th>1488</th>\n      <td>Zimbabwe</td>\n      <td>ZW</td>\n      <td>ZWE</td>\n      <td>716</td>\n      <td>AFR</td>\n      <td>2019</td>\n      <td>Survey &amp; Surveillance</td>\n      <td>2.4</td>\n      <td>2.2</td>\n      <td>2.7</td>\n      <td>Survey &amp; Surveillance</td>\n      <td>23.0</td>\n      <td>20.0</td>\n      <td>27.0</td>\n      <td>1000</td>\n      <td>710</td>\n      <td>1400</td>\n    </tr>\n    <tr>\n      <th>1489</th>\n      <td>Zimbabwe</td>\n      <td>ZW</td>\n      <td>ZWE</td>\n      <td>716</td>\n      <td>AFR</td>\n      <td>2020</td>\n      <td>Survey &amp; Surveillance</td>\n      <td>2.0</td>\n      <td>1.7</td>\n      <td>2.4</td>\n      <td>Survey &amp; Surveillance</td>\n      <td>25.0</td>\n      <td>20.0</td>\n      <td>30.0</td>\n      <td>830</td>\n      <td>540</td>\n      <td>1100</td>\n    </tr>\n    <tr>\n      <th>1490</th>\n      <td>Zimbabwe</td>\n      <td>ZW</td>\n      <td>ZWE</td>\n      <td>716</td>\n      <td>AFR</td>\n      <td>2021</td>\n      <td>Survey &amp; Surveillance</td>\n      <td>1.7</td>\n      <td>1.3</td>\n      <td>2.1</td>\n      <td>Survey &amp; Surveillance</td>\n      <td>28.0</td>\n      <td>21.0</td>\n      <td>34.0</td>\n      <td>780</td>\n      <td>480</td>\n      <td>1100</td>\n    </tr>\n  </tbody>\n</table>\n</div>"
     },
     "execution_count": 33,
     "metadata": {},
     "output_type": "execute_result"
    }
   ],
   "source": [
    "df.tail()"
   ],
   "metadata": {
    "collapsed": false,
    "pycharm": {
     "name": "#%%\n"
    }
   }
  },
  {
   "cell_type": "code",
   "execution_count": 34,
   "outputs": [
    {
     "name": "stdout",
     "output_type": "stream",
     "text": [
      "<class 'pandas.core.frame.DataFrame'>\n",
      "RangeIndex: 1491 entries, 0 to 1490\n",
      "Data columns (total 17 columns):\n",
      " #   Column           Non-Null Count  Dtype  \n",
      "---  ------           --------------  -----  \n",
      " 0   country          1491 non-null   object \n",
      " 1   iso2             1484 non-null   object \n",
      " 2   iso3             1491 non-null   object \n",
      " 3   iso_numeric      1491 non-null   int64  \n",
      " 4   g_whoregion      1491 non-null   object \n",
      " 5   year             1491 non-null   int64  \n",
      " 6   source_rr_new    1491 non-null   object \n",
      " 7   e_rr_pct_new     1491 non-null   float64\n",
      " 8   e_rr_pct_new_lo  1491 non-null   float64\n",
      " 9   e_rr_pct_new_hi  1491 non-null   float64\n",
      " 10  source_rr_ret    1491 non-null   object \n",
      " 11  e_rr_pct_ret     1491 non-null   float64\n",
      " 12  e_rr_pct_ret_lo  1491 non-null   float64\n",
      " 13  e_rr_pct_ret_hi  1491 non-null   float64\n",
      " 14  e_inc_rr_num     1491 non-null   int64  \n",
      " 15  e_inc_rr_num_lo  1491 non-null   int64  \n",
      " 16  e_inc_rr_num_hi  1491 non-null   int64  \n",
      "dtypes: float64(6), int64(5), object(6)\n",
      "memory usage: 198.1+ KB\n"
     ]
    }
   ],
   "source": [
    "df.info()"
   ],
   "metadata": {
    "collapsed": false,
    "pycharm": {
     "name": "#%%\n"
    }
   }
  },
  {
   "cell_type": "code",
   "execution_count": 35,
   "outputs": [
    {
     "data": {
      "text/plain": "       iso_numeric         year  e_rr_pct_new  e_rr_pct_new_lo  \\\ncount  1491.000000  1491.000000   1491.000000      1491.000000   \nmean    432.215962  2018.000000      3.896385         2.693957   \nstd     252.680328     2.000671      6.091549         6.029206   \nmin       4.000000  2015.000000      0.250000         0.100000   \n25%     212.000000  2016.000000      1.400000         0.340000   \n50%     434.000000  2018.000000      2.300000         0.880000   \n75%     643.000000  2020.000000      3.400000         2.000000   \nmax     894.000000  2021.000000     45.000000        41.000000   \n\n       e_rr_pct_new_hi  e_rr_pct_ret  e_rr_pct_ret_lo  e_rr_pct_ret_hi  \\\ncount      1491.000000   1491.000000      1491.000000      1491.000000   \nmean          6.577787     17.071496         9.679611        31.596043   \nstd           6.790237     13.267110        13.169322        21.302995   \nmin           0.430000      1.100000         0.200000         3.200000   \n25%           2.400000      8.400000         1.500000        14.000000   \n50%           4.200000     14.000000         4.400000        26.000000   \n75%           8.400000     20.000000        11.000000        48.000000   \nmax          49.000000     76.000000        69.000000        91.000000   \n\n        e_inc_rr_num  e_inc_rr_num_lo  e_inc_rr_num_hi  \ncount    1491.000000      1491.000000      1491.000000  \nmean     2148.600939      1202.430584      3150.439302  \nstd     10349.915499      6613.101673     14310.469726  \nmin         0.000000         0.000000         0.000000  \n25%         4.000000         0.000000         7.000000  \n50%        74.000000        12.000000       120.000000  \n75%       670.000000       220.000000      1400.000000  \nmax    149000.000000     94000.000000    223000.000000  ",
      "text/html": "<div>\n<style scoped>\n    .dataframe tbody tr th:only-of-type {\n        vertical-align: middle;\n    }\n\n    .dataframe tbody tr th {\n        vertical-align: top;\n    }\n\n    .dataframe thead th {\n        text-align: right;\n    }\n</style>\n<table border=\"1\" class=\"dataframe\">\n  <thead>\n    <tr style=\"text-align: right;\">\n      <th></th>\n      <th>iso_numeric</th>\n      <th>year</th>\n      <th>e_rr_pct_new</th>\n      <th>e_rr_pct_new_lo</th>\n      <th>e_rr_pct_new_hi</th>\n      <th>e_rr_pct_ret</th>\n      <th>e_rr_pct_ret_lo</th>\n      <th>e_rr_pct_ret_hi</th>\n      <th>e_inc_rr_num</th>\n      <th>e_inc_rr_num_lo</th>\n      <th>e_inc_rr_num_hi</th>\n    </tr>\n  </thead>\n  <tbody>\n    <tr>\n      <th>count</th>\n      <td>1491.000000</td>\n      <td>1491.000000</td>\n      <td>1491.000000</td>\n      <td>1491.000000</td>\n      <td>1491.000000</td>\n      <td>1491.000000</td>\n      <td>1491.000000</td>\n      <td>1491.000000</td>\n      <td>1491.000000</td>\n      <td>1491.000000</td>\n      <td>1491.000000</td>\n    </tr>\n    <tr>\n      <th>mean</th>\n      <td>432.215962</td>\n      <td>2018.000000</td>\n      <td>3.896385</td>\n      <td>2.693957</td>\n      <td>6.577787</td>\n      <td>17.071496</td>\n      <td>9.679611</td>\n      <td>31.596043</td>\n      <td>2148.600939</td>\n      <td>1202.430584</td>\n      <td>3150.439302</td>\n    </tr>\n    <tr>\n      <th>std</th>\n      <td>252.680328</td>\n      <td>2.000671</td>\n      <td>6.091549</td>\n      <td>6.029206</td>\n      <td>6.790237</td>\n      <td>13.267110</td>\n      <td>13.169322</td>\n      <td>21.302995</td>\n      <td>10349.915499</td>\n      <td>6613.101673</td>\n      <td>14310.469726</td>\n    </tr>\n    <tr>\n      <th>min</th>\n      <td>4.000000</td>\n      <td>2015.000000</td>\n      <td>0.250000</td>\n      <td>0.100000</td>\n      <td>0.430000</td>\n      <td>1.100000</td>\n      <td>0.200000</td>\n      <td>3.200000</td>\n      <td>0.000000</td>\n      <td>0.000000</td>\n      <td>0.000000</td>\n    </tr>\n    <tr>\n      <th>25%</th>\n      <td>212.000000</td>\n      <td>2016.000000</td>\n      <td>1.400000</td>\n      <td>0.340000</td>\n      <td>2.400000</td>\n      <td>8.400000</td>\n      <td>1.500000</td>\n      <td>14.000000</td>\n      <td>4.000000</td>\n      <td>0.000000</td>\n      <td>7.000000</td>\n    </tr>\n    <tr>\n      <th>50%</th>\n      <td>434.000000</td>\n      <td>2018.000000</td>\n      <td>2.300000</td>\n      <td>0.880000</td>\n      <td>4.200000</td>\n      <td>14.000000</td>\n      <td>4.400000</td>\n      <td>26.000000</td>\n      <td>74.000000</td>\n      <td>12.000000</td>\n      <td>120.000000</td>\n    </tr>\n    <tr>\n      <th>75%</th>\n      <td>643.000000</td>\n      <td>2020.000000</td>\n      <td>3.400000</td>\n      <td>2.000000</td>\n      <td>8.400000</td>\n      <td>20.000000</td>\n      <td>11.000000</td>\n      <td>48.000000</td>\n      <td>670.000000</td>\n      <td>220.000000</td>\n      <td>1400.000000</td>\n    </tr>\n    <tr>\n      <th>max</th>\n      <td>894.000000</td>\n      <td>2021.000000</td>\n      <td>45.000000</td>\n      <td>41.000000</td>\n      <td>49.000000</td>\n      <td>76.000000</td>\n      <td>69.000000</td>\n      <td>91.000000</td>\n      <td>149000.000000</td>\n      <td>94000.000000</td>\n      <td>223000.000000</td>\n    </tr>\n  </tbody>\n</table>\n</div>"
     },
     "execution_count": 35,
     "metadata": {},
     "output_type": "execute_result"
    }
   ],
   "source": [
    "df.describe()"
   ],
   "metadata": {
    "collapsed": false,
    "pycharm": {
     "name": "#%%\n"
    }
   }
  },
  {
   "cell_type": "code",
   "execution_count": 36,
   "outputs": [],
   "source": [
    "mean = df['e_rr_pct_new'].mean()\n",
    "median = df['e_rr_pct_new'].median()\n",
    "min_value = df['e_rr_pct_new'].min()\n",
    "max_value = df['e_rr_pct_new'].max()"
   ],
   "metadata": {
    "collapsed": false,
    "pycharm": {
     "name": "#%%\n"
    }
   }
  },
  {
   "cell_type": "code",
   "execution_count": 37,
   "outputs": [
    {
     "name": "stdout",
     "output_type": "stream",
     "text": [
      "Średnia: 3.896384976525822\n",
      "Mediana: 2.3\n",
      "Minimum: 0.25\n",
      "Maksimum: 45.0\n"
     ]
    }
   ],
   "source": [
    "print('Średnia:', mean)\n",
    "print('Mediana:', median)\n",
    "print('Minimum:', min_value)\n",
    "print('Maksimum:', max_value)"
   ],
   "metadata": {
    "collapsed": false,
    "pycharm": {
     "name": "#%%\n"
    }
   }
  },
  {
   "cell_type": "markdown",
   "source": [
    "### Zadanie 2"
   ],
   "metadata": {
    "collapsed": false,
    "pycharm": {
     "name": "#%% md\n"
    }
   }
  },
  {
   "cell_type": "code",
   "execution_count": 38,
   "outputs": [
    {
     "data": {
      "text/plain": "      0\n0   156\n1   158\n2   167\n3   188\n4   197\n5   167\n6   197\n7   178\n8   186\n9   157\n10  198\n11  199\n12  178\n13  168\n14  156\n15  151\n16  167\n17  167",
      "text/html": "<div>\n<style scoped>\n    .dataframe tbody tr th:only-of-type {\n        vertical-align: middle;\n    }\n\n    .dataframe tbody tr th {\n        vertical-align: top;\n    }\n\n    .dataframe thead th {\n        text-align: right;\n    }\n</style>\n<table border=\"1\" class=\"dataframe\">\n  <thead>\n    <tr style=\"text-align: right;\">\n      <th></th>\n      <th>0</th>\n    </tr>\n  </thead>\n  <tbody>\n    <tr>\n      <th>0</th>\n      <td>156</td>\n    </tr>\n    <tr>\n      <th>1</th>\n      <td>158</td>\n    </tr>\n    <tr>\n      <th>2</th>\n      <td>167</td>\n    </tr>\n    <tr>\n      <th>3</th>\n      <td>188</td>\n    </tr>\n    <tr>\n      <th>4</th>\n      <td>197</td>\n    </tr>\n    <tr>\n      <th>5</th>\n      <td>167</td>\n    </tr>\n    <tr>\n      <th>6</th>\n      <td>197</td>\n    </tr>\n    <tr>\n      <th>7</th>\n      <td>178</td>\n    </tr>\n    <tr>\n      <th>8</th>\n      <td>186</td>\n    </tr>\n    <tr>\n      <th>9</th>\n      <td>157</td>\n    </tr>\n    <tr>\n      <th>10</th>\n      <td>198</td>\n    </tr>\n    <tr>\n      <th>11</th>\n      <td>199</td>\n    </tr>\n    <tr>\n      <th>12</th>\n      <td>178</td>\n    </tr>\n    <tr>\n      <th>13</th>\n      <td>168</td>\n    </tr>\n    <tr>\n      <th>14</th>\n      <td>156</td>\n    </tr>\n    <tr>\n      <th>15</th>\n      <td>151</td>\n    </tr>\n    <tr>\n      <th>16</th>\n      <td>167</td>\n    </tr>\n    <tr>\n      <th>17</th>\n      <td>167</td>\n    </tr>\n  </tbody>\n</table>\n</div>"
     },
     "execution_count": 38,
     "metadata": {},
     "output_type": "execute_result"
    }
   ],
   "source": [
    "df = pd.read_csv('Wzrost.csv', header=None,).T\n",
    "df"
   ],
   "metadata": {
    "collapsed": false,
    "pycharm": {
     "name": "#%%\n"
    }
   }
  },
  {
   "cell_type": "code",
   "execution_count": 39,
   "outputs": [],
   "source": [
    "variance = statistics.variance(df[0])\n",
    "stdev = statistics.stdev(df[0])"
   ],
   "metadata": {
    "collapsed": false,
    "pycharm": {
     "name": "#%%\n"
    }
   }
  },
  {
   "cell_type": "code",
   "execution_count": 40,
   "outputs": [
    {
     "name": "stdout",
     "output_type": "stream",
     "text": [
      "Wariancja: 269.6764705882353\n",
      "Odchylenie standardowe: 16.42182908777933\n"
     ]
    }
   ],
   "source": [
    "print(f'Wariancja: {variance}')\n",
    "print(f'Odchylenie standardowe: {stdev}')\n",
    "\n",
    "#Odchylenie standardowe to pierwiastek z obciążonego estymatora wariancji"
   ],
   "metadata": {
    "collapsed": false,
    "pycharm": {
     "name": "#%%\n"
    }
   }
  },
  {
   "cell_type": "markdown",
   "source": [
    "### Zadanie 3"
   ],
   "metadata": {
    "collapsed": false,
    "pycharm": {
     "name": "#%% md\n"
    }
   }
  },
  {
   "cell_type": "code",
   "execution_count": 41,
   "outputs": [
    {
     "data": {
      "text/plain": "      fixed acidity  volatile acidity  citric acid  residual sugar  chlorides  \\\n0               7.0              0.27         0.36            20.7      0.045   \n1               6.3              0.30         0.34             1.6      0.049   \n2               8.1              0.28         0.40             6.9      0.050   \n3               7.2              0.23         0.32             8.5      0.058   \n4               7.2              0.23         0.32             8.5      0.058   \n...             ...               ...          ...             ...        ...   \n4893            6.2              0.21         0.29             1.6      0.039   \n4894            6.6              0.32         0.36             8.0      0.047   \n4895            6.5              0.24         0.19             1.2      0.041   \n4896            5.5              0.29         0.30             1.1      0.022   \n4897            6.0              0.21         0.38             0.8      0.020   \n\n      free sulfur dioxide  total sulfur dioxide  density    pH  sulphates  \\\n0                    45.0                 170.0  1.00100  3.00       0.45   \n1                    14.0                 132.0  0.99400  3.30       0.49   \n2                    30.0                  97.0  0.99510  3.26       0.44   \n3                    47.0                 186.0  0.99560  3.19       0.40   \n4                    47.0                 186.0  0.99560  3.19       0.40   \n...                   ...                   ...      ...   ...        ...   \n4893                 24.0                  92.0  0.99114  3.27       0.50   \n4894                 57.0                 168.0  0.99490  3.15       0.46   \n4895                 30.0                 111.0  0.99254  2.99       0.46   \n4896                 20.0                 110.0  0.98869  3.34       0.38   \n4897                 22.0                  98.0  0.98941  3.26       0.32   \n\n      alcohol  quality  \n0         8.8        6  \n1         9.5        6  \n2        10.1        6  \n3         9.9        6  \n4         9.9        6  \n...       ...      ...  \n4893     11.2        6  \n4894      9.6        5  \n4895      9.4        6  \n4896     12.8        7  \n4897     11.8        6  \n\n[4898 rows x 12 columns]",
      "text/html": "<div>\n<style scoped>\n    .dataframe tbody tr th:only-of-type {\n        vertical-align: middle;\n    }\n\n    .dataframe tbody tr th {\n        vertical-align: top;\n    }\n\n    .dataframe thead th {\n        text-align: right;\n    }\n</style>\n<table border=\"1\" class=\"dataframe\">\n  <thead>\n    <tr style=\"text-align: right;\">\n      <th></th>\n      <th>fixed acidity</th>\n      <th>volatile acidity</th>\n      <th>citric acid</th>\n      <th>residual sugar</th>\n      <th>chlorides</th>\n      <th>free sulfur dioxide</th>\n      <th>total sulfur dioxide</th>\n      <th>density</th>\n      <th>pH</th>\n      <th>sulphates</th>\n      <th>alcohol</th>\n      <th>quality</th>\n    </tr>\n  </thead>\n  <tbody>\n    <tr>\n      <th>0</th>\n      <td>7.0</td>\n      <td>0.27</td>\n      <td>0.36</td>\n      <td>20.7</td>\n      <td>0.045</td>\n      <td>45.0</td>\n      <td>170.0</td>\n      <td>1.00100</td>\n      <td>3.00</td>\n      <td>0.45</td>\n      <td>8.8</td>\n      <td>6</td>\n    </tr>\n    <tr>\n      <th>1</th>\n      <td>6.3</td>\n      <td>0.30</td>\n      <td>0.34</td>\n      <td>1.6</td>\n      <td>0.049</td>\n      <td>14.0</td>\n      <td>132.0</td>\n      <td>0.99400</td>\n      <td>3.30</td>\n      <td>0.49</td>\n      <td>9.5</td>\n      <td>6</td>\n    </tr>\n    <tr>\n      <th>2</th>\n      <td>8.1</td>\n      <td>0.28</td>\n      <td>0.40</td>\n      <td>6.9</td>\n      <td>0.050</td>\n      <td>30.0</td>\n      <td>97.0</td>\n      <td>0.99510</td>\n      <td>3.26</td>\n      <td>0.44</td>\n      <td>10.1</td>\n      <td>6</td>\n    </tr>\n    <tr>\n      <th>3</th>\n      <td>7.2</td>\n      <td>0.23</td>\n      <td>0.32</td>\n      <td>8.5</td>\n      <td>0.058</td>\n      <td>47.0</td>\n      <td>186.0</td>\n      <td>0.99560</td>\n      <td>3.19</td>\n      <td>0.40</td>\n      <td>9.9</td>\n      <td>6</td>\n    </tr>\n    <tr>\n      <th>4</th>\n      <td>7.2</td>\n      <td>0.23</td>\n      <td>0.32</td>\n      <td>8.5</td>\n      <td>0.058</td>\n      <td>47.0</td>\n      <td>186.0</td>\n      <td>0.99560</td>\n      <td>3.19</td>\n      <td>0.40</td>\n      <td>9.9</td>\n      <td>6</td>\n    </tr>\n    <tr>\n      <th>...</th>\n      <td>...</td>\n      <td>...</td>\n      <td>...</td>\n      <td>...</td>\n      <td>...</td>\n      <td>...</td>\n      <td>...</td>\n      <td>...</td>\n      <td>...</td>\n      <td>...</td>\n      <td>...</td>\n      <td>...</td>\n    </tr>\n    <tr>\n      <th>4893</th>\n      <td>6.2</td>\n      <td>0.21</td>\n      <td>0.29</td>\n      <td>1.6</td>\n      <td>0.039</td>\n      <td>24.0</td>\n      <td>92.0</td>\n      <td>0.99114</td>\n      <td>3.27</td>\n      <td>0.50</td>\n      <td>11.2</td>\n      <td>6</td>\n    </tr>\n    <tr>\n      <th>4894</th>\n      <td>6.6</td>\n      <td>0.32</td>\n      <td>0.36</td>\n      <td>8.0</td>\n      <td>0.047</td>\n      <td>57.0</td>\n      <td>168.0</td>\n      <td>0.99490</td>\n      <td>3.15</td>\n      <td>0.46</td>\n      <td>9.6</td>\n      <td>5</td>\n    </tr>\n    <tr>\n      <th>4895</th>\n      <td>6.5</td>\n      <td>0.24</td>\n      <td>0.19</td>\n      <td>1.2</td>\n      <td>0.041</td>\n      <td>30.0</td>\n      <td>111.0</td>\n      <td>0.99254</td>\n      <td>2.99</td>\n      <td>0.46</td>\n      <td>9.4</td>\n      <td>6</td>\n    </tr>\n    <tr>\n      <th>4896</th>\n      <td>5.5</td>\n      <td>0.29</td>\n      <td>0.30</td>\n      <td>1.1</td>\n      <td>0.022</td>\n      <td>20.0</td>\n      <td>110.0</td>\n      <td>0.98869</td>\n      <td>3.34</td>\n      <td>0.38</td>\n      <td>12.8</td>\n      <td>7</td>\n    </tr>\n    <tr>\n      <th>4897</th>\n      <td>6.0</td>\n      <td>0.21</td>\n      <td>0.38</td>\n      <td>0.8</td>\n      <td>0.020</td>\n      <td>22.0</td>\n      <td>98.0</td>\n      <td>0.98941</td>\n      <td>3.26</td>\n      <td>0.32</td>\n      <td>11.8</td>\n      <td>6</td>\n    </tr>\n  </tbody>\n</table>\n<p>4898 rows × 12 columns</p>\n</div>"
     },
     "execution_count": 41,
     "metadata": {},
     "output_type": "execute_result"
    }
   ],
   "source": [
    "url = 'https://archive.ics.uci.edu/ml/machine-learning-databases/wine-quality/winequality-white.csv'\n",
    "urllib.request.urlretrieve(url, 'wine.csv')\n",
    "df = pd.read_csv('wine.csv', sep=';')\n",
    "df"
   ],
   "metadata": {
    "collapsed": false,
    "pycharm": {
     "name": "#%%\n"
    }
   }
  },
  {
   "cell_type": "code",
   "execution_count": 42,
   "outputs": [
    {
     "name": "stderr",
     "output_type": "stream",
     "text": [
      "C:\\Users\\Andrzej\\AppData\\Local\\Temp\\ipykernel_5704\\530910148.py:3: FutureWarning: Unlike other reduction functions (e.g. `skew`, `kurtosis`), the default behavior of `mode` typically preserves the axis it acts along. In SciPy 1.11.0, this behavior will change: the default value of `keepdims` will become False, the `axis` over which the statistic is taken will be eliminated, and the value None will no longer be accepted. Set `keepdims` to True or False to avoid this warning.\n",
      "  mode = stats.mode(df['chlorides'])\n"
     ]
    }
   ],
   "source": [
    "mean = stats.gmean(df['chlorides'])\n",
    "median = stats.median_abs_deviation(df['chlorides'])\n",
    "mode = stats.mode(df['chlorides'])\n",
    "variance = stats.variation(df['chlorides'])\n"
   ],
   "metadata": {
    "collapsed": false,
    "pycharm": {
     "name": "#%%\n"
    }
   }
  },
  {
   "cell_type": "code",
   "execution_count": 43,
   "outputs": [
    {
     "name": "stdout",
     "output_type": "stream",
     "text": [
      "Średnia: 0.04289453967651245\n",
      "Mediana: 0.007000000000000006\n",
      "Moda: 0.044\n",
      "Wariancja: 0.47726924204326704\n"
     ]
    }
   ],
   "source": [
    "print(f'Średnia: {mean}')\n",
    "print(f'Mediana: {median}')\n",
    "print(f'Moda: {mode[0][0]}')\n",
    "print(f'Wariancja: {variance}')"
   ],
   "metadata": {
    "collapsed": false,
    "pycharm": {
     "name": "#%%\n"
    }
   }
  },
  {
   "cell_type": "markdown",
   "source": [
    "### zadanie 4"
   ],
   "metadata": {
    "collapsed": false,
    "pycharm": {
     "name": "#%% md\n"
    }
   }
  },
  {
   "cell_type": "code",
   "execution_count": 44,
   "outputs": [
    {
     "data": {
      "text/plain": "    Unnamed: 0  Gender  FSIQ  VIQ  PIQ Weight Height  MRI_Count\n0            1  Female   133  132  124    118   64.5     816932\n1            2    Male   140  150  124      .   72.5    1001121\n2            3    Male   139  123  150    143   73.3    1038437\n3            4    Male   133  129  128    172   68.8     965353\n4            5  Female   137  132  134    147   65.0     951545\n5            6  Female    99   90  110    146   69.0     928799\n6            7  Female   138  136  131    138   64.5     991305\n7            8  Female    92   90   98    175   66.0     854258\n8            9    Male    89   93   84    134   66.3     904858\n9           10    Male   133  114  147    172   68.8     955466\n10          11  Female   132  129  124    118   64.5     833868\n11          12    Male   141  150  128    151   70.0    1079549\n12          13    Male   135  129  124    155   69.0     924059\n13          14  Female   140  120  147    155   70.5     856472\n14          15  Female    96  100   90    146   66.0     878897\n15          16  Female    83   71   96    135   68.0     865363\n16          17  Female   132  132  120    127   68.5     852244\n17          18    Male   100   96  102    178   73.5     945088\n18          19  Female   101  112   84    136   66.3     808020\n19          20    Male    80   77   86    180   70.0     889083\n20          21    Male    83   83   86      .      .     892420\n21          22    Male    97  107   84    186   76.5     905940\n22          23  Female   135  129  134    122   62.0     790619\n23          24    Male   139  145  128    132   68.0     955003\n24          25  Female    91   86  102    114   63.0     831772\n25          26    Male   141  145  131    171   72.0     935494\n26          27  Female    85   90   84    140   68.0     798612\n27          28    Male   103   96  110    187   77.0    1062462\n28          29  Female    77   83   72    106   63.0     793549\n29          30  Female   130  126  124    159   66.5     866662\n30          31  Female   133  126  132    127   62.5     857782\n31          32    Male   144  145  137    191   67.0     949589\n32          33    Male   103   96  110    192   75.5     997925\n33          34    Male    90   96   86    181   69.0     879987\n34          35  Female    83   90   81    143   66.5     834344\n35          36  Female   133  129  128    153   66.5     948066\n36          37    Male   140  150  124    144   70.5     949395\n37          38  Female    88   86   94    139   64.5     893983\n38          39    Male    81   90   74    148   74.0     930016\n39          40    Male    89   91   89    179   75.5     935863",
      "text/html": "<div>\n<style scoped>\n    .dataframe tbody tr th:only-of-type {\n        vertical-align: middle;\n    }\n\n    .dataframe tbody tr th {\n        vertical-align: top;\n    }\n\n    .dataframe thead th {\n        text-align: right;\n    }\n</style>\n<table border=\"1\" class=\"dataframe\">\n  <thead>\n    <tr style=\"text-align: right;\">\n      <th></th>\n      <th>Unnamed: 0</th>\n      <th>Gender</th>\n      <th>FSIQ</th>\n      <th>VIQ</th>\n      <th>PIQ</th>\n      <th>Weight</th>\n      <th>Height</th>\n      <th>MRI_Count</th>\n    </tr>\n  </thead>\n  <tbody>\n    <tr>\n      <th>0</th>\n      <td>1</td>\n      <td>Female</td>\n      <td>133</td>\n      <td>132</td>\n      <td>124</td>\n      <td>118</td>\n      <td>64.5</td>\n      <td>816932</td>\n    </tr>\n    <tr>\n      <th>1</th>\n      <td>2</td>\n      <td>Male</td>\n      <td>140</td>\n      <td>150</td>\n      <td>124</td>\n      <td>.</td>\n      <td>72.5</td>\n      <td>1001121</td>\n    </tr>\n    <tr>\n      <th>2</th>\n      <td>3</td>\n      <td>Male</td>\n      <td>139</td>\n      <td>123</td>\n      <td>150</td>\n      <td>143</td>\n      <td>73.3</td>\n      <td>1038437</td>\n    </tr>\n    <tr>\n      <th>3</th>\n      <td>4</td>\n      <td>Male</td>\n      <td>133</td>\n      <td>129</td>\n      <td>128</td>\n      <td>172</td>\n      <td>68.8</td>\n      <td>965353</td>\n    </tr>\n    <tr>\n      <th>4</th>\n      <td>5</td>\n      <td>Female</td>\n      <td>137</td>\n      <td>132</td>\n      <td>134</td>\n      <td>147</td>\n      <td>65.0</td>\n      <td>951545</td>\n    </tr>\n    <tr>\n      <th>5</th>\n      <td>6</td>\n      <td>Female</td>\n      <td>99</td>\n      <td>90</td>\n      <td>110</td>\n      <td>146</td>\n      <td>69.0</td>\n      <td>928799</td>\n    </tr>\n    <tr>\n      <th>6</th>\n      <td>7</td>\n      <td>Female</td>\n      <td>138</td>\n      <td>136</td>\n      <td>131</td>\n      <td>138</td>\n      <td>64.5</td>\n      <td>991305</td>\n    </tr>\n    <tr>\n      <th>7</th>\n      <td>8</td>\n      <td>Female</td>\n      <td>92</td>\n      <td>90</td>\n      <td>98</td>\n      <td>175</td>\n      <td>66.0</td>\n      <td>854258</td>\n    </tr>\n    <tr>\n      <th>8</th>\n      <td>9</td>\n      <td>Male</td>\n      <td>89</td>\n      <td>93</td>\n      <td>84</td>\n      <td>134</td>\n      <td>66.3</td>\n      <td>904858</td>\n    </tr>\n    <tr>\n      <th>9</th>\n      <td>10</td>\n      <td>Male</td>\n      <td>133</td>\n      <td>114</td>\n      <td>147</td>\n      <td>172</td>\n      <td>68.8</td>\n      <td>955466</td>\n    </tr>\n    <tr>\n      <th>10</th>\n      <td>11</td>\n      <td>Female</td>\n      <td>132</td>\n      <td>129</td>\n      <td>124</td>\n      <td>118</td>\n      <td>64.5</td>\n      <td>833868</td>\n    </tr>\n    <tr>\n      <th>11</th>\n      <td>12</td>\n      <td>Male</td>\n      <td>141</td>\n      <td>150</td>\n      <td>128</td>\n      <td>151</td>\n      <td>70.0</td>\n      <td>1079549</td>\n    </tr>\n    <tr>\n      <th>12</th>\n      <td>13</td>\n      <td>Male</td>\n      <td>135</td>\n      <td>129</td>\n      <td>124</td>\n      <td>155</td>\n      <td>69.0</td>\n      <td>924059</td>\n    </tr>\n    <tr>\n      <th>13</th>\n      <td>14</td>\n      <td>Female</td>\n      <td>140</td>\n      <td>120</td>\n      <td>147</td>\n      <td>155</td>\n      <td>70.5</td>\n      <td>856472</td>\n    </tr>\n    <tr>\n      <th>14</th>\n      <td>15</td>\n      <td>Female</td>\n      <td>96</td>\n      <td>100</td>\n      <td>90</td>\n      <td>146</td>\n      <td>66.0</td>\n      <td>878897</td>\n    </tr>\n    <tr>\n      <th>15</th>\n      <td>16</td>\n      <td>Female</td>\n      <td>83</td>\n      <td>71</td>\n      <td>96</td>\n      <td>135</td>\n      <td>68.0</td>\n      <td>865363</td>\n    </tr>\n    <tr>\n      <th>16</th>\n      <td>17</td>\n      <td>Female</td>\n      <td>132</td>\n      <td>132</td>\n      <td>120</td>\n      <td>127</td>\n      <td>68.5</td>\n      <td>852244</td>\n    </tr>\n    <tr>\n      <th>17</th>\n      <td>18</td>\n      <td>Male</td>\n      <td>100</td>\n      <td>96</td>\n      <td>102</td>\n      <td>178</td>\n      <td>73.5</td>\n      <td>945088</td>\n    </tr>\n    <tr>\n      <th>18</th>\n      <td>19</td>\n      <td>Female</td>\n      <td>101</td>\n      <td>112</td>\n      <td>84</td>\n      <td>136</td>\n      <td>66.3</td>\n      <td>808020</td>\n    </tr>\n    <tr>\n      <th>19</th>\n      <td>20</td>\n      <td>Male</td>\n      <td>80</td>\n      <td>77</td>\n      <td>86</td>\n      <td>180</td>\n      <td>70.0</td>\n      <td>889083</td>\n    </tr>\n    <tr>\n      <th>20</th>\n      <td>21</td>\n      <td>Male</td>\n      <td>83</td>\n      <td>83</td>\n      <td>86</td>\n      <td>.</td>\n      <td>.</td>\n      <td>892420</td>\n    </tr>\n    <tr>\n      <th>21</th>\n      <td>22</td>\n      <td>Male</td>\n      <td>97</td>\n      <td>107</td>\n      <td>84</td>\n      <td>186</td>\n      <td>76.5</td>\n      <td>905940</td>\n    </tr>\n    <tr>\n      <th>22</th>\n      <td>23</td>\n      <td>Female</td>\n      <td>135</td>\n      <td>129</td>\n      <td>134</td>\n      <td>122</td>\n      <td>62.0</td>\n      <td>790619</td>\n    </tr>\n    <tr>\n      <th>23</th>\n      <td>24</td>\n      <td>Male</td>\n      <td>139</td>\n      <td>145</td>\n      <td>128</td>\n      <td>132</td>\n      <td>68.0</td>\n      <td>955003</td>\n    </tr>\n    <tr>\n      <th>24</th>\n      <td>25</td>\n      <td>Female</td>\n      <td>91</td>\n      <td>86</td>\n      <td>102</td>\n      <td>114</td>\n      <td>63.0</td>\n      <td>831772</td>\n    </tr>\n    <tr>\n      <th>25</th>\n      <td>26</td>\n      <td>Male</td>\n      <td>141</td>\n      <td>145</td>\n      <td>131</td>\n      <td>171</td>\n      <td>72.0</td>\n      <td>935494</td>\n    </tr>\n    <tr>\n      <th>26</th>\n      <td>27</td>\n      <td>Female</td>\n      <td>85</td>\n      <td>90</td>\n      <td>84</td>\n      <td>140</td>\n      <td>68.0</td>\n      <td>798612</td>\n    </tr>\n    <tr>\n      <th>27</th>\n      <td>28</td>\n      <td>Male</td>\n      <td>103</td>\n      <td>96</td>\n      <td>110</td>\n      <td>187</td>\n      <td>77.0</td>\n      <td>1062462</td>\n    </tr>\n    <tr>\n      <th>28</th>\n      <td>29</td>\n      <td>Female</td>\n      <td>77</td>\n      <td>83</td>\n      <td>72</td>\n      <td>106</td>\n      <td>63.0</td>\n      <td>793549</td>\n    </tr>\n    <tr>\n      <th>29</th>\n      <td>30</td>\n      <td>Female</td>\n      <td>130</td>\n      <td>126</td>\n      <td>124</td>\n      <td>159</td>\n      <td>66.5</td>\n      <td>866662</td>\n    </tr>\n    <tr>\n      <th>30</th>\n      <td>31</td>\n      <td>Female</td>\n      <td>133</td>\n      <td>126</td>\n      <td>132</td>\n      <td>127</td>\n      <td>62.5</td>\n      <td>857782</td>\n    </tr>\n    <tr>\n      <th>31</th>\n      <td>32</td>\n      <td>Male</td>\n      <td>144</td>\n      <td>145</td>\n      <td>137</td>\n      <td>191</td>\n      <td>67.0</td>\n      <td>949589</td>\n    </tr>\n    <tr>\n      <th>32</th>\n      <td>33</td>\n      <td>Male</td>\n      <td>103</td>\n      <td>96</td>\n      <td>110</td>\n      <td>192</td>\n      <td>75.5</td>\n      <td>997925</td>\n    </tr>\n    <tr>\n      <th>33</th>\n      <td>34</td>\n      <td>Male</td>\n      <td>90</td>\n      <td>96</td>\n      <td>86</td>\n      <td>181</td>\n      <td>69.0</td>\n      <td>879987</td>\n    </tr>\n    <tr>\n      <th>34</th>\n      <td>35</td>\n      <td>Female</td>\n      <td>83</td>\n      <td>90</td>\n      <td>81</td>\n      <td>143</td>\n      <td>66.5</td>\n      <td>834344</td>\n    </tr>\n    <tr>\n      <th>35</th>\n      <td>36</td>\n      <td>Female</td>\n      <td>133</td>\n      <td>129</td>\n      <td>128</td>\n      <td>153</td>\n      <td>66.5</td>\n      <td>948066</td>\n    </tr>\n    <tr>\n      <th>36</th>\n      <td>37</td>\n      <td>Male</td>\n      <td>140</td>\n      <td>150</td>\n      <td>124</td>\n      <td>144</td>\n      <td>70.5</td>\n      <td>949395</td>\n    </tr>\n    <tr>\n      <th>37</th>\n      <td>38</td>\n      <td>Female</td>\n      <td>88</td>\n      <td>86</td>\n      <td>94</td>\n      <td>139</td>\n      <td>64.5</td>\n      <td>893983</td>\n    </tr>\n    <tr>\n      <th>38</th>\n      <td>39</td>\n      <td>Male</td>\n      <td>81</td>\n      <td>90</td>\n      <td>74</td>\n      <td>148</td>\n      <td>74.0</td>\n      <td>930016</td>\n    </tr>\n    <tr>\n      <th>39</th>\n      <td>40</td>\n      <td>Male</td>\n      <td>89</td>\n      <td>91</td>\n      <td>89</td>\n      <td>179</td>\n      <td>75.5</td>\n      <td>935863</td>\n    </tr>\n  </tbody>\n</table>\n</div>"
     },
     "execution_count": 44,
     "metadata": {},
     "output_type": "execute_result"
    }
   ],
   "source": [
    "df = pd.read_csv('brain_size.csv',sep=';')\n",
    "\n",
    "df"
   ],
   "metadata": {
    "collapsed": false,
    "pycharm": {
     "name": "#%%\n"
    }
   }
  },
  {
   "cell_type": "code",
   "execution_count": 49,
   "outputs": [
    {
     "name": "stdout",
     "output_type": "stream",
     "text": [
      "Średnia dla kolumny VIQ: 112.35\n"
     ]
    },
    {
     "data": {
      "text/plain": "Female    20\nMale      20\nName: Gender, dtype: int64"
     },
     "execution_count": 49,
     "metadata": {},
     "output_type": "execute_result"
    }
   ],
   "source": [
    "print(f'Średnia dla kolumny VIQ:', df['VIQ'].mean())\n",
    "\n",
    "df['Gender'].value_counts()"
   ],
   "metadata": {
    "collapsed": false,
    "pycharm": {
     "name": "#%%\n"
    }
   }
  },
  {
   "cell_type": "code",
   "execution_count": 51,
   "outputs": [
    {
     "data": {
      "text/plain": "<Figure size 640x480 with 4 Axes>",
      "image/png": "[encoded data removed]"
     },
     "metadata": {},
     "output_type": "display_data"
    }
   ],
   "source": [
    "df.hist(column=['VIQ', 'PIQ', 'FSIQ'])\n",
    "plt.show()"
   ],
   "metadata": {
    "collapsed": false,
    "pycharm": {
     "name": "#%%\n"
    }
   }
  },
  {
   "cell_type": "code",
   "execution_count": 50,
   "outputs": [
    {
     "data": {
      "text/plain": "<Figure size 640x480 with 4 Axes>",
      "image/png": "[encoded data removed]"
     },
     "metadata": {},
     "output_type": "display_data"
    }
   ],
   "source": [
    "female_df = df[df['Gender'] == 'Female']\n",
    "\n",
    "female_df.hist(column=['VIQ', 'PIQ', 'FSIQ'])\n",
    "plt.show()"
   ],
   "metadata": {
    "collapsed": false,
    "pycharm": {
     "name": "#%%\n"
    }
   }
  },
  {
   "cell_type": "code",
   "execution_count": null,
   "outputs": [],
   "source": [],
   "metadata": {
    "collapsed": false,
    "pycharm": {
     "name": "#%%\n"
    }
   }
  }
 ],
 "metadata": {
  "kernelspec": {
   "display_name": "Python 3",
   "language": "python",
   "name": "python3"
  },
  "language_info": {
   "codemirror_mode": {
    "name": "ipython",
    "version": 2
   },
   "file_extension": ".py",
   "mimetype": "text/x-python",
   "name": "python",
   "nbconvert_exporter": "python",
   "pygments_lexer": "ipython2",
   "version": "2.7.6"
  }
 },
 "nbformat": 4,
 "nbformat_minor": 0
}